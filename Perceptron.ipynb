{
 "cells": [
  {
   "cell_type": "code",
   "execution_count": 1,
   "id": "a0012028-a344-4b83-9257-c3ceb7e4de77",
   "metadata": {},
   "outputs": [],
   "source": [
    "import numpy as np\n",
    "\n",
    "def perceptron(data, labels, params={}, hook=None):\n",
    "    # if T not in params, default to 100\n",
    "    T = params.get('T', 100)\n",
    "    d, n = data.shape()\n",
    "    th = np.zeros((d,1))\n",
    "    th0 = np.zeros(1)\n",
    "    for t in range(T):\n",
    "        for i in range(n):\n",
    "            x_i = data[:,i]\n",
    "            y_i = labels[0,i]\n",
    "            if ((np.dot(x_i, th) + th0) * y_i) <= 0:\n",
    "                th[:,0] += y_i*x_i\n",
    "                th0 += y_i\n",
    "    return(th, th0)"
   ]
  },
  {
   "cell_type": "code",
   "execution_count": null,
   "id": "77d18425-ad2c-4f8d-8120-caf35f0cd5eb",
   "metadata": {},
   "outputs": [],
   "source": []
  }
 ],
 "metadata": {
  "kernelspec": {
   "display_name": "Python 3",
   "language": "python",
   "name": "python3"
  },
  "language_info": {
   "codemirror_mode": {
    "name": "ipython",
    "version": 3
   },
   "file_extension": ".py",
   "mimetype": "text/x-python",
   "name": "python",
   "nbconvert_exporter": "python",
   "pygments_lexer": "ipython3",
   "version": "3.8.8"
  }
 },
 "nbformat": 4,
 "nbformat_minor": 5
}
