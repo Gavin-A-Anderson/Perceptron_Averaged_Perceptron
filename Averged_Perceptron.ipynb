{
 "cells": [
  {
   "cell_type": "code",
   "execution_count": 2,
   "id": "61b6f39b-0f36-4f9a-819a-da9800cbcfc8",
   "metadata": {},
   "outputs": [],
   "source": [
    "import numpy as np"
   ]
  },
  {
   "cell_type": "code",
   "execution_count": 29,
   "id": "0684b065-8d64-4475-81d5-7d966ce4a473",
   "metadata": {},
   "outputs": [],
   "source": [
    "def perceptron(data, labels, params = {}, hook = None):    \n",
    "    # if T not in params, default to 100\n",
    "    T = params.get('T', 100)\n",
    "    # Your implementation here\n",
    "    d, n = data.shape\n",
    "    theta = np.zeros((d,1))\n",
    "    thetas = np.zeros((d,1))\n",
    "    theta_0 = np.zeros(1)\n",
    "    theta_0s = np.zeros(1)\n",
    "    print(\"d = {}, n = {}, theta shape = {}, theta_0 shape = {}\".format(d,n,theta.shape,theta_0.shape))\n",
    "  \n",
    "    for t in range(T):     \n",
    "        for i in range(n):\n",
    "            y = labels[0,i]\n",
    "            x = data[:,i]\n",
    "        \n",
    "            a = np.dot(x,theta)+theta_0\n",
    "            #print(\"a = {}\".format(a))\n",
    "            positive = np.sign(y*a)\n",
    "        \n",
    "            if np.sign(y*a) <=0: # update the thetas\n",
    "                theta[:,0] = theta[:,0]+ y*x\n",
    "                theta_0 = theta_0 + y\n",
    "            thetas = thetas + theta\n",
    "            theta_0s = theta_0s + theta_0\n",
    "          \n",
    "    print(\"shape x = {}, y = {}, theta = {}, theta_0 = {}\".format(x.shape,y.shape,theta.shape,theta_0.shape))\n",
    "    return (thetas/(n*T),theta_0s/(n*T))"
   ]
  },
  {
   "cell_type": "code",
   "execution_count": null,
   "id": "a88df1fa-6325-4ee8-9f9e-87aef7e9d759",
   "metadata": {},
   "outputs": [],
   "source": []
  }
 ],
 "metadata": {
  "kernelspec": {
   "display_name": "Python 3",
   "language": "python",
   "name": "python3"
  },
  "language_info": {
   "codemirror_mode": {
    "name": "ipython",
    "version": 3
   },
   "file_extension": ".py",
   "mimetype": "text/x-python",
   "name": "python",
   "nbconvert_exporter": "python",
   "pygments_lexer": "ipython3",
   "version": "3.8.8"
  }
 },
 "nbformat": 4,
 "nbformat_minor": 5
}
